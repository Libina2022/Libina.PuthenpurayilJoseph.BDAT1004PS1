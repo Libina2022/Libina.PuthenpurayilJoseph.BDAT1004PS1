{
 "cells": [
  {
   "cell_type": "markdown",
   "id": "6d3e9fb9",
   "metadata": {},
   "source": [
    "# Question 3 C#\n",
    "\n",
    "Implement function triangleArea(a,b,c) that takes as input the lengths of the 3\n",
    "sides of a triangle and returns the area of the triangle. By Heron's formula, the area\n",
    "of a triangle with side lengths a, b, and c is\n",
    "s(s - a)(s -b)(s -c)\n",
    ", where\n",
    "s = (a+b+c)/2.\n",
    ">>> triangleArea(2,2,2)\n",
    "1.7320508075688772\n"
   ]
  },
  {
   "cell_type": "code",
   "execution_count": 9,
   "id": "7c59457a",
   "metadata": {},
   "outputs": [
    {
     "name": "stdout",
     "output_type": "stream",
     "text": [
      "\n",
      "*******************************Question 3 C#*****************************************\n",
      "\n",
      "Enter the length of side 1 : Enter the length of side 2 : Enter the length of side 3 : By Heron's formula, Area of the Triangle = 0\n",
      "\n"
     ]
    }
   ],
   "source": [
    "\n",
    "Console.WriteLine(\"\\n*******************************Question 3 C#*****************************************\\n\");\n",
    "Console.Write(\"Enter the length of side 1 : \");\n",
    "double a = Convert.ToDouble(Console.ReadLine());\n",
    "Console.Write(\"Enter the length of side 2 : \");\n",
    "double b = Convert.ToDouble(Console.ReadLine());\n",
    "Console.Write(\"Enter the length of side 3 : \");\n",
    "double c = Convert.ToDouble(Console.ReadLine());\n",
    "\n",
    "// Function to find area\n",
    "static double triangleArea(double a, double b, double c)\n",
    "{\n",
    "    //Semi perimeter of Triangle (s)\n",
    "    double s = (a + b + c) / 2;\n",
    "\n",
    "    //Area of a triangle(A)\n",
    "    double Area = Math.Sqrt(s * (s - a) * (s - b) * (s - c));\n",
    "    Console.Write(\"By Heron's formula, Area of the Triangle = \" + Area);\n",
    "    Console.WriteLine(\"\\n\");\n",
    "    return Area;\n",
    "}\n",
    "\n",
    "triangleArea(a, b, c);"
   ]
  }
 ],
 "metadata": {
  "kernelspec": {
   "display_name": ".NET (C#)",
   "language": "C#",
   "name": ".net-csharp"
  },
  "language_info": {
   "file_extension": ".cs",
   "mimetype": "text/x-csharp",
   "name": "C#",
   "pygments_lexer": "csharp",
   "version": "8.0"
  }
 },
 "nbformat": 4,
 "nbformat_minor": 5
}
