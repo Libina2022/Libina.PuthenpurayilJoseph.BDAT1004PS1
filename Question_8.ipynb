{
 "cells": [
  {
   "cell_type": "markdown",
   "id": "68010b94",
   "metadata": {},
   "source": [
    "# Question 8 Python\n",
    "\n",
    "Write a function curconv() that takes as input:\n",
    "1. a currency represented using a string (e.g., 'JPY' for the Japanese Yen or\n",
    "'EUR' for the Euro)\n",
    "2. an amount\n",
    "and then converts and returns the amount in US dollars.\n",
    ">>> curconv('EUR', 100)\n",
    "122.96544\n",
    ">>> curconv('JPY', 100)\n",
    "1.241401\n",
    "The currency rates you will need are stored in file currencies.txt:\n",
    "AUD 1.0345157 Australian Dollar\n",
    "CHF 1.0237414 Swiss Franc\n",
    "CNY 0.1550176 Chinese Yuan\n",
    "DKK 0.1651442 Danish Krone\n",
    "EUR 1.2296544 Euro\n",
    "GBP 1.5550989 British Pound\n",
    "HKD 0.1270207 Hong Kong Dollar\n",
    "INR 0.0177643 Indian Rupee\n",
    "JPY 0.01241401 Japanese Yen\n",
    "MXN 0.0751848 Mexican Peso\n",
    "MYR 0.3145411 Malaysian Ringgit\n",
    "NOK 0.1677063 Norwegian Krone\n",
    "NZD 0.8003591 New Zealand Dollar\n",
    "PHP 0.0233234 Philippine Peso\n",
    "SEK 0.148269 Swedish Krona\n",
    "SGD 0.788871 Singapore Dollar\n",
    "THB 0.0313789 Thai Baht\n"
   ]
  },
  {
   "cell_type": "code",
   "execution_count": 1,
   "id": "e5ae994f",
   "metadata": {},
   "outputs": [
    {
     "name": "stdout",
     "output_type": "stream",
     "text": [
      "enter the currency and amount :\n",
      "SEK,100\n",
      "\n",
      "\n",
      "converted value in us dollars :\n",
      "14.826900000000002\n"
     ]
    }
   ],
   "source": [
    "currency, amount = input(\"enter the currency and amount :\\n\").split(\",\")    #getting input from user\n",
    "amount = float(amount)                                                      # converting amount to float\n",
    "\n",
    "curfile = open(\"c:\\\\users\\\\libina p joseph\\\\documents\\\\bigdataanalytics\\\\bdat_1004\\\\currencies.txt\",'r') # file path\n",
    "\n",
    "curr_dict = {}\n",
    "for line in curfile.readlines():                                            # return all lines in the file, as a list\n",
    "    line_cell = line.split()\n",
    "    curr_dict[line_cell[0]] = float(line_cell[1])\n",
    "\n",
    "def curconv(cur,amt):                                                       # curconv() function with 2 arguments currency and amount\n",
    "    amtusd = amt * curr_dict[cur]                                           # calculating the amount in us dollars\n",
    "    print(\"\\n\")\n",
    "    print(\"converted value in us dollars :\")\n",
    "    print(amtusd)\n",
    "\n",
    "curconv(currency,amount)"
   ]
  },
  {
   "cell_type": "code",
   "execution_count": null,
   "id": "63944a87",
   "metadata": {},
   "outputs": [],
   "source": []
  }
 ],
 "metadata": {
  "kernelspec": {
   "display_name": "Python 3 (ipykernel)",
   "language": "python",
   "name": "python3"
  },
  "language_info": {
   "codemirror_mode": {
    "name": "ipython",
    "version": 3
   },
   "file_extension": ".py",
   "mimetype": "text/x-python",
   "name": "python",
   "nbconvert_exporter": "python",
   "pygments_lexer": "ipython3",
   "version": "3.9.7"
  }
 },
 "nbformat": 4,
 "nbformat_minor": 5
}
