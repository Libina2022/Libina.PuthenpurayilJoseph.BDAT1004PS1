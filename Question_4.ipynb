{
 "cells": [
  {
   "cell_type": "markdown",
   "id": "201b222d",
   "metadata": {},
   "source": [
    "# Question 4 C#\n",
    "\n",
    "Write a program in C# Sharp to separate odd and even integers in separate arrays.\n",
    "Go to the editor\n",
    "Test Data :\n",
    "Input the number of elements to be stored in the array :5\n",
    "Input 5 elements in the array :\n",
    "element - 0 : 25\n",
    "element - 1 : 47\n",
    "element - 2 : 42\n",
    "element - 3 : 56\n",
    "element - 4 : 32\n",
    "Expected Output:\n",
    "The Even elements are:\n",
    "42 56 32\n",
    "The Odd elements are :\n",
    "25 47"
   ]
  },
  {
   "cell_type": "code",
   "execution_count": 16,
   "id": "80253b9a",
   "metadata": {},
   "outputs": [
    {
     "ename": "Unhandled Exception",
     "evalue": "(8,15): error CS0128: A local variable or function named 'arr1' is already defined in this scope",
     "output_type": "error",
     "traceback": [
      "(8,15): error CS0128: A local variable or function named 'arr1' is already defined in this scope"
     ]
    }
   ],
   "source": [
    "public class QuestionFour\n",
    "{\n",
    "    public static void Main()\n",
    "    {\n",
    "        //Array Declaration and Initialization\n",
    "        //defining array with size 5. \n",
    "        int[] arr1 = new int[5];                \n",
    "        int[] arr1 = new int[5];\n",
    "        int[] arr2 = new int[5];\n",
    "        int[] arr3 = new int[5];\n",
    "        int i, num, k = 0, j = 0;\n",
    "\n",
    "        Console.WriteLine(\"\\n*************************************Question 4 C#****************************************\\n\");\n",
    "        \n",
    "        Console.Write(\"\\nSeparate odd and even integers in separate arrays:\\n\");\n",
    "        Console.Write(\"***********************************************************\\n\");\n",
    "\n",
    "        Console.Write(\"Input the number of elements to be stored in the array :\");\n",
    "        num = Convert.ToInt32(Console.ReadLine());\n",
    "\n",
    "        Console.Write(\"Input {0} elements in the array :\\n\", num);\n",
    "        for (i = 0; i < num; i++)\n",
    "        {\n",
    "            Console.Write(\"element - {0} : \", i);\n",
    "            arr1[i] = Convert.ToInt32(Console.ReadLine());\n",
    "        }\n",
    "\n",
    "        for (i = 0; i < num; i++)\n",
    "        {\n",
    "            if (arr1[i] % 2 == 0)\n",
    "            {\n",
    "                arr2[j] = arr1[i];\n",
    "                j++;\n",
    "            }\n",
    "            else\n",
    "            {\n",
    "                arr3[k] = arr1[i];\n",
    "                k++;\n",
    "            }\n",
    "        }\n",
    "\n",
    "        Console.Write(\"\\nThe Even elements are : \\n\");\n",
    "        for (i = 0; i < j; i++)\n",
    "        {\n",
    "            Console.Write(\"{0} \", arr2[i]);\n",
    "        }\n",
    "\n",
    "        Console.Write(\"\\nThe Odd elements are :\\n\");\n",
    "        for (i = 0; i < k; i++)\n",
    "        {\n",
    "            Console.Write(\"{0} \", arr3[i]);\n",
    "        }\n",
    "        Console.Write(\"\\n\\n\");\n",
    "    }\n",
    "}"
   ]
  }
 ],
 "metadata": {
  "kernelspec": {
   "display_name": ".NET (C#)",
   "language": "C#",
   "name": ".net-csharp"
  },
  "language_info": {
   "file_extension": ".cs",
   "mimetype": "text/x-csharp",
   "name": "C#",
   "pygments_lexer": "csharp",
   "version": "8.0"
  }
 },
 "nbformat": 4,
 "nbformat_minor": 5
}
