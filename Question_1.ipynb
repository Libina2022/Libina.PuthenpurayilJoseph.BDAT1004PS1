{
 "cells": [
  {
   "cell_type": "markdown",
   "id": "c1288b38",
   "metadata": {},
   "source": [
    "# Question 1 C#\n",
    "\n",
    "What data type is each of the following?\n"
   ]
  },
  {
   "cell_type": "code",
   "execution_count": 98,
   "id": "6a0ddb66",
   "metadata": {},
   "outputs": [
    {
     "name": "stdout",
     "output_type": "stream",
     "text": [
      "Datatype of 5        : System.Int32\n",
      "Datatype of 5.0      : System.Double\n",
      "Datatype of 5>1      : System.Boolean\n",
      "Datatype of '5'      : System.Char\n",
      "Datatype of 5*2      : System.Int32\n",
      "Datatype of '5'*2    : System.Int32\n",
      "Datatype of '5'+'2'  : System.Int32\n",
      "Datatype of 5/2      : System.Int32\n",
      "Datatype of 5%2      : System.Int32\n",
      "Datatype of {5,2,1}  : System.ValueTuple`3[System.Int32,System.Int32,System.Int32]\n",
      "Datatype of (5==3)   : System.Boolean\n",
      "Datatype of Pi       : System.Double\n"
     ]
    }
   ],
   "source": [
    "// GetType() is used to find the type of the current instance\n",
    "\n",
    "var a = 5;\n",
    "Console.WriteLine(\"Datatype of \" + a + \"        : \"+ a.GetType());  \n",
    "\n",
    "var b = 5.0;\n",
    "Console.WriteLine(\"Datatype of 5.0      : \"+ b.GetType());\n",
    "\n",
    "var c = (5 > 1);\n",
    "Console.WriteLine(\"Datatype of 5>1      : \"+ c.GetType());\n",
    "\n",
    "var d = '5';\n",
    "Console.WriteLine(\"Datatype of '5'      : \"+ d.GetType());\n",
    "\n",
    "var e = (5 * 2);\n",
    "Console.WriteLine(\"Datatype of 5*2      : \"+ e.GetType());\n",
    "\n",
    "var f = ('5' * 2);\n",
    "Console.WriteLine(\"Datatype of '5'*2    : \"+ f.GetType());\n",
    "\n",
    "var g = ('5' + '2');\n",
    "Console.WriteLine(\"Datatype of '5'+'2'  : \"+ g.GetType());\n",
    "\n",
    "var h = (5 / 2);\n",
    "Console.WriteLine(\"Datatype of 5/2      : \"+ h.GetType());\n",
    "\n",
    "var i = (5 % 2);\n",
    "Console.WriteLine(\"Datatype of 5%2      : \"+ i.GetType());\n",
    "\n",
    "var j = (5,2,1);\n",
    "Console.WriteLine(\"Datatype of {5,2,1}  : \"+ j.GetType());\n",
    "\n",
    "var k = (5 == 3);\n",
    "Console.WriteLine(\"Datatype of (5==3)   : \"+ k.GetType());\n",
    "\n",
    "var l = Math.PI;\n",
    "Console.WriteLine(\"Datatype of Pi       : \"+ l.GetType());\n",
    "\n"
   ]
  }
 ],
 "metadata": {
  "kernelspec": {
   "display_name": ".NET (C#)",
   "language": "C#",
   "name": ".net-csharp"
  },
  "language_info": {
   "file_extension": ".cs",
   "mimetype": "text/x-csharp",
   "name": "C#",
   "pygments_lexer": "csharp",
   "version": "8.0"
  }
 },
 "nbformat": 4,
 "nbformat_minor": 5
}
