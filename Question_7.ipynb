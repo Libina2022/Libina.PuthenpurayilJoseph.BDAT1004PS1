{
 "cells": [
  {
   "cell_type": "markdown",
   "id": "b44fe39c",
   "metadata": {},
   "source": [
    "# Question 7 Python\n",
    "File bloodtype1.txt records blood-types of patients (A, B, AB, O or OO) at a clinic.\n",
    "Write a function bldcount() that reads the file with name name and reports (i.e.,\n",
    "prints) how many patients there are in each bloodtype.\n",
    ">>> bldcount('bloodtype.txt')\n",
    "There are 10 patients of blood type A.\n",
    "There is one patient of blood type B.\n",
    "There are 10 patients of blood type AB.\n",
    "There are 12 patients of blood type O.\n",
    "There are no patients of blood type OO."
   ]
  },
  {
   "cell_type": "code",
   "execution_count": 1,
   "id": "bddc51c7",
   "metadata": {},
   "outputs": [
    {
     "name": "stdout",
     "output_type": "stream",
     "text": [
      "\n",
      "***************************************Question 7 Python********************************\n",
      "\n",
      "Enter the file path : C:\\Users\\Libina P Joseph\\Documents\\BigDataAnalytics\\BDAT_1004\\bloodtype1.txt\n",
      "\n",
      "\n",
      "There are  15 patients of blood type A .\n",
      "There is one patient of blood type B .\n",
      "There are  13 patients of blood type AB .\n",
      "There are  15 patients of blood type O .\n",
      "There are no patients of blood type OO .\n"
     ]
    }
   ],
   "source": [
    "print(\"\\n***************************************Question 7 Python********************************\\n\")\n",
    "File_Path = input(\"Enter the file path : \")                     # Getting file path from user\n",
    "def bldcount(File_Path):                                        # bldcount() function takes the file path as argument\n",
    "    fileObj = open(File_Path,'r')                               # open() function open's a file, access mode is read only\n",
    "    fileContent = fileObj.read()                                # reading from file            \n",
    "    fileObj.close()                                             # closing the text file\n",
    "    fileContent = fileContent.split()                           # split() method splits the string into a list\n",
    "    bloodType = ['A','B','AB','O','OO']                         # store multiple blood group in a single variable\n",
    "    for grp in bloodType:\n",
    "        if fileContent.count(grp)==0:                           # There are no patients with available blood type\n",
    "            print(\"There are no patients of blood type\",grp,\".\")\n",
    "        elif fileContent.count(grp)==1:                         # There is only one patient with vaailable blood type\n",
    "            print(\"There is one patient of blood type\",grp,\".\")\n",
    "        else:                                                   # There are more than one patients with vaailable bood type\n",
    "            print(\"There are \",fileContent.count(grp),\"patients of blood type\",grp,\".\")\n",
    "\n",
    "print(\"\\n\")\n",
    "bldcount(File_Path)"
   ]
  },
  {
   "cell_type": "code",
   "execution_count": null,
   "id": "2d787a3e",
   "metadata": {},
   "outputs": [],
   "source": []
  }
 ],
 "metadata": {
  "kernelspec": {
   "display_name": "Python 3 (ipykernel)",
   "language": "python",
   "name": "python3"
  },
  "language_info": {
   "codemirror_mode": {
    "name": "ipython",
    "version": 3
   },
   "file_extension": ".py",
   "mimetype": "text/x-python",
   "name": "python",
   "nbconvert_exporter": "python",
   "pygments_lexer": "ipython3",
   "version": "3.9.7"
  }
 },
 "nbformat": 4,
 "nbformat_minor": 5
}
