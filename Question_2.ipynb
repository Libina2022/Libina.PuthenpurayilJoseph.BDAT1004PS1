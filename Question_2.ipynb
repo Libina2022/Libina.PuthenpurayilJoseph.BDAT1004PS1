{
 "cells": [
  {
   "cell_type": "markdown",
   "id": "0284dbf1",
   "metadata": {},
   "source": [
    "# Question 2 C#\n",
    "\n",
    "Write (and evaluate) C# expressions that answer these questions:\n",
    "a. How many letters are there in 'Supercalifragilisticexpialidocious'?\n",
    "b. Does 'Supercalifragilisticexpialidocious' contain 'ice' as a substring? \n",
    "c. Which of the following words is the longest:\n",
    "Supercalifragilisticexpialidocious, Honorificabilitudinitatibus, or\n",
    "Bababadalgharaghtakamminarronnkonn?\n",
    "d. Which composer comes first in the dictionary: 'Berlioz', 'Borodin', 'Brian',\n",
    "'Bartok', 'Bellini', 'Buxtehude', 'Bernstein'. Which one comes last?"
   ]
  },
  {
   "cell_type": "code",
   "execution_count": 11,
   "id": "65e2a6d2",
   "metadata": {},
   "outputs": [
    {
     "name": "stdout",
     "output_type": "stream",
     "text": [
      "Length of Supercalifragilisticexpialidocious = 34\r\n"
     ]
    }
   ],
   "source": [
    "// a. How many letters are there in 'Supercalifragilisticexpialidocious'?\n",
    "\n",
    "string str1 = \"Supercalifragilisticexpialidocious\";\n",
    "int strLength = str1.Length;\n",
    "Console.WriteLine($\"Length of {str1} = {strLength}\");"
   ]
  },
  {
   "cell_type": "code",
   "execution_count": 12,
   "id": "187ab8a7",
   "metadata": {},
   "outputs": [
    {
     "name": "stdout",
     "output_type": "stream",
     "text": [
      "ice is in the string Supercalifragilisticexpialidocious : True\r\n"
     ]
    }
   ],
   "source": [
    "// b. Does 'Supercalifragilisticexpialidocious' contain 'ice' as a substring? \n",
    "\n",
    "string str1 = \"Supercalifragilisticexpialidocious\";\n",
    "string str2 = \"ice\";\n",
    "bool b1 = str1.Contains(str2);\n",
    "Console.WriteLine($\"{str2} is in the string {str1} : {b1}\");"
   ]
  },
  {
   "cell_type": "code",
   "execution_count": 1,
   "id": "3baef76a",
   "metadata": {},
   "outputs": [
    {
     "name": "stdout",
     "output_type": "stream",
     "text": [
      "Enter three words : \r\n"
     ]
    },
    {
     "ename": "Unhandled Exception",
     "evalue": "Object reference not set to an instance of an object.",
     "output_type": "error",
     "traceback": [
      "Unhandled Exception",
      "Object reference not set to an instance of an object.",
      "   at Submission#2.<<Initialize>>d__0.MoveNext()",
      "--- End of stack trace from previous location where exception was thrown ---",
      "   at Microsoft.CodeAnalysis.Scripting.ScriptExecutionState.RunSubmissionsAsync[TResult](ImmutableArray`1 precedingExecutors, Func`2 currentExecutor, StrongBox`1 exceptionHolderOpt, Func`2 catchExceptionOpt, CancellationToken cancellationToken)"
     ]
    }
   ],
   "source": [
    "// c. Which of the following words is the longest:\n",
    "\n",
    "Console.WriteLine(\"Enter three words : \");\n",
    "string[] array1 = new string[3];\n",
    "int mylength = 0;\n",
    "string result = \"\";\n",
    "\n",
    "for (int i = 0; i < 3; i++)\n",
    "{\n",
    "    array1[i] = Console.ReadLine();\n",
    "\n",
    "}\n",
    "\n",
    "for (int j = 0; j < 3; j++)\n",
    "{\n",
    "    if (array1[j].Length > mylength)\n",
    "    {\n",
    "        mylength = array1[j].Length;\n",
    "    }\n",
    "}\n",
    "for (int i = 0; i < 3; i++)\n",
    "{\n",
    "    if (array1[i].Length == mylength)\n",
    "    {\n",
    "        result += array1[i];\n",
    "        result += \" \";\n",
    "    }\n",
    "}\n",
    "if (result.Length == (mylength + 1))\n",
    "{\n",
    "    Console.WriteLine(\"Longest word is :\" + result);\n",
    "}\n",
    "else\n",
    "{\n",
    "    Console.WriteLine(\"The longest words are:\" + result);\n",
    "}\n"
   ]
  },
  {
   "cell_type": "code",
   "execution_count": 3,
   "id": "4ef19fcc",
   "metadata": {},
   "outputs": [
    {
     "name": "stdout",
     "output_type": "stream",
     "text": [
      "Enter your 7 words to sort: \n",
      "\n",
      "The sorted array is: \n",
      "\n",
      "\n",
      "\n",
      "\n",
      "\n",
      "\n",
      "\n",
      "\n"
     ]
    }
   ],
   "source": [
    "// d. Which composer comes first in the dictionary: 'Berlioz', 'Borodin', 'Brian','Bartok', 'Bellini', 'Buxtehude', 'Bernstein'. Which one comes last?\n",
    "\n",
    "Console.WriteLine(\"Enter your 7 words to sort: \");\n",
    "string[] array2 = new string[7];\n",
    "for (int i = 0; i < 7; i++)\n",
    "{\n",
    "    array2[i] = Console.ReadLine();\n",
    "}\n",
    "\n",
    "Array.Sort(array2);\n",
    "Console.WriteLine(\"\\nThe sorted array is: \\n\");\n",
    "for (int i = 0; i < 7; i++)\n",
    "{\n",
    "    Console.WriteLine(array2[i]);\n",
    "}"
   ]
  }
 ],
 "metadata": {
  "kernelspec": {
   "display_name": ".NET (C#)",
   "language": "C#",
   "name": ".net-csharp"
  },
  "language_info": {
   "file_extension": ".cs",
   "mimetype": "text/x-csharp",
   "name": "C#",
   "pygments_lexer": "csharp",
   "version": "8.0"
  }
 },
 "nbformat": 4,
 "nbformat_minor": 5
}
